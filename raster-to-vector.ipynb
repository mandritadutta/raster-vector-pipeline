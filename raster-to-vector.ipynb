{
 "cells": [
  {
   "cell_type": "code",
   "execution_count": 1,
   "id": "811090b9-ca01-460e-98c5-433230dd613c",
   "metadata": {},
   "outputs": [],
   "source": [
    "import rasterio\n",
    "from shapely.geometry import box\n",
    "import geopandas as gpd\n",
    "\n",
    "raster_path = \"D://Project1//o41078a1.tif\"  # <- replace with your file\n",
    "\n",
    "with rasterio.open(raster_path) as src:\n",
    "    bounds = src.bounds\n",
    "    crs = src.crs\n",
    "\n",
    "geom = box(*bounds)\n",
    "gdf = gpd.GeoDataFrame({'geometry': [geom]}, crs=crs)\n",
    "\n",
    "gdf.to_file(\"raster_extent.shp\")\n"
   ]
  },
  {
   "cell_type": "code",
   "execution_count": null,
   "id": "870ac8f5-2c9d-4956-9971-9d0b82e51436",
   "metadata": {},
   "outputs": [],
   "source": []
  }
 ],
 "metadata": {
  "kernelspec": {
   "display_name": "Python 3 (ipykernel)",
   "language": "python",
   "name": "python3"
  },
  "language_info": {
   "codemirror_mode": {
    "name": "ipython",
    "version": 3
   },
   "file_extension": ".py",
   "mimetype": "text/x-python",
   "name": "python",
   "nbconvert_exporter": "python",
   "pygments_lexer": "ipython3",
   "version": "3.12.7"
  }
 },
 "nbformat": 4,
 "nbformat_minor": 5
}
